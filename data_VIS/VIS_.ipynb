{
 "cells": [
  {
   "cell_type": "markdown",
   "id": "5fe33c0d",
   "metadata": {},
   "source": [
    "# Visualisation"
   ]
  },
  {
   "cell_type": "code",
   "execution_count": null,
   "id": "b011a84c",
   "metadata": {},
   "outputs": [],
   "source": [
    "import pyspark\n",
    "from pyspark.sql import SparkSession\n",
    "import os\n",
    "import time\n",
    "\n",
    "spark = SparkSession.builder \\\n",
    "    .appName(\"MoviesRating\") \\\n",
    "    .config(\"spark.executor.memory\", \"10g\") \\\n",
    "    .getOrCreate()\n",
    "\n",
    "spark.sparkContext.setLogLevel(\"ERROR\")\n",
    "spark.conf.set(\"spark.sql.debug.maxToStringFields\", \"-1\")"
   ]
  },
  {
   "cell_type": "code",
   "execution_count": null,
   "id": "695eeceb",
   "metadata": {},
   "outputs": [],
   "source": [
    "films_hdfs_path = \"hdfs://localhost:9000/haythem/imdb_dataset/output_directory/films.csv\"\n",
    "crew_hdfs_path = \"hdfs://localhost:9000/haythem/imdb_dataset/output_directory/crew.csv\"\n",
    "films_crew_hdfs_path = \"hdfs://localhost:9000/haythem/imdb_dataset/output_directory/films_crew.csv\"\n",
    "\n",
    "df_films = spark.read.format(\"csv\").option(\"delimiter\", \",\").load(films_hdfs_path, header=True, inferSchema=True)\n",
    "df_crew = spark.read.format(\"csv\").option(\"delimiter\", \",\").load(crew_hdfs_path, header=True, inferSchema=True)\n",
    "df_films_crew = spark.read.format(\"csv\").option(\"delimiter\", \",\").load(films_crew_hdfs_path, header=True, inferSchema=True)\n"
   ]
  },
  {
   "cell_type": "markdown",
   "id": "887e79f0",
   "metadata": {},
   "source": [
    "# Spark Visualisation"
   ]
  },
  {
   "cell_type": "code",
   "execution_count": null,
   "id": "38fc22f0",
   "metadata": {},
   "outputs": [],
   "source": [
    "import plotly.graph_objs as go\n",
    "from plotly.subplots import make_subplots\n",
    "import pyspark.sql.functions as F\n",
    "from pyspark.sql.functions import col\n",
    "\n",
    "\n",
    "genre_counts = df_films.groupBy('genres').count().orderBy(F.desc('count')).limit(10)\n",
    "data_crew = df_crew.filter(col('primaryName').isNotNull() & col('primaryProfession').isNotNull())"
   ]
  },
  {
   "cell_type": "markdown",
   "id": "9ec54f97",
   "metadata": {},
   "source": [
    "## BAR_plot"
   ]
  },
  {
   "cell_type": "code",
   "execution_count": null,
   "id": "3ae4c133",
   "metadata": {},
   "outputs": [],
   "source": [
    "# Extract genres and counts as lists\n",
    "genres = genre_counts.select('genres').rdd.flatMap(lambda x: x).collect()\n",
    "counts = genre_counts.select('count').rdd.flatMap(lambda x: x).collect()\n",
    "\n",
    "# Create a Plotly figure\n",
    "fig = make_subplots(rows=1, cols=1, subplot_titles=['Top 10 Genres by Count of Films'])\n",
    "\n",
    "# Add bar trace to the figure\n",
    "fig.add_trace(go.Bar(x=genres, y=counts, name='Count of Films', marker_color='skyblue'), row=1, col=1)\n",
    "\n",
    "# Update layout\n",
    "fig.update_layout(title_text='Top 10 Genres by Count of Films', xaxis_title='Genres', yaxis_title='Count of Films')\n",
    "\n",
    "# Show the plot\n",
    "fig.show()\n"
   ]
  },
  {
   "cell_type": "markdown",
   "id": "1fd1857f",
   "metadata": {},
   "source": [
    "## Scatter_plot"
   ]
  },
  {
   "cell_type": "code",
   "execution_count": null,
   "id": "17916913",
   "metadata": {},
   "outputs": [],
   "source": [
    "start_year_ = df_films.filter(col('startYear').isNotNull())\n",
    "# Extract startYear and counts as lists\n",
    "start_year_df = start_year_.groupBy('startYear').count().orderBy(F.asc('startYear'))\n",
    "\n",
    "start_years = start_year_df.select('startYear').rdd.flatMap(lambda x: x).collect()\n",
    "counts1 = start_year_df.select('count').rdd.flatMap(lambda x: x).collect()\n",
    "\n",
    "# Create a Plotly figure\n",
    "fig = make_subplots(rows=1, cols=1, subplot_titles=['Number of Films Produced Over the Years'])\n",
    "\n",
    "# Add line trace to the figure\n",
    "fig.add_trace(go.Scatter(x=start_years, y=counts1, mode='lines', name='Number of Films Produced Over the Years', line=dict(color='skyblue')), row=1, col=1)\n",
    "\n",
    "# Update layout\n",
    "fig.update_layout(title_text='Number of Films Produced Over the Years', xaxis_title='Start Year', yaxis_title='Number of Films')\n",
    "\n",
    "# Show the plot\n",
    "fig.show()"
   ]
  },
  {
   "cell_type": "markdown",
   "id": "1745ec09",
   "metadata": {},
   "source": [
    "## Pie_plot"
   ]
  },
  {
   "cell_type": "code",
   "execution_count": null,
   "id": "7e1948bb",
   "metadata": {},
   "outputs": [],
   "source": [
    "filtered_crew_ = data_crew.withColumn('primaryProfession', F.split(data_crew['primaryProfession'], ','))\n",
    "# Explode the list of professions into multiple rows\n",
    "filtered_crew_ = filtered_crew_.select(filtered_crew_['nconst'], F.explode(filtered_crew_['primaryProfession']).alias('profession'))\n",
    "\n",
    "# Group by profession and count the occurrences\n",
    "top_professions = filtered_crew_.groupBy('profession').count().orderBy(F.desc('count')).limit(10)\n",
    "\n",
    "\n",
    "professions = top_professions.select('profession').rdd.flatMap(lambda x: x).collect()\n",
    "counts_p = top_professions.select('count').rdd.flatMap(lambda x: x).collect()\n",
    "\n",
    "# Create a Plotly pie chart\n",
    "fig = go.Figure(data=[go.Pie(labels=professions, values=counts_p, hole=.3)])\n",
    "\n",
    "# Update layout\n",
    "fig.update_layout(\n",
    "    title_text='Top 10 Professions in Film Crew',\n",
    ")\n",
    "\n",
    "# Show the plot\n",
    "fig.show()"
   ]
  },
  {
   "cell_type": "markdown",
   "id": "a83c1b88",
   "metadata": {},
   "source": [
    "## Histogram_plot"
   ]
  },
  {
   "cell_type": "code",
   "execution_count": null,
   "id": "124b76d3",
   "metadata": {},
   "outputs": [],
   "source": [
    "# Create a Plotly histogram with custom partitions for average ratings\n",
    "fig = go.Figure(data=[go.Histogram(x=average_ratings, xbins=dict(start=0, end=10, size=1), marker=dict(color='skyblue'))])\n",
    "\n",
    "# Update layout\n",
    "fig.update_layout(\n",
    "    title_text='Distribution of Average Ratings',\n",
    "    xaxis_title='Average Rating',\n",
    "    yaxis_title='Frequency'\n",
    ")\n",
    "\n",
    "# Show the plot\n",
    "fig.show()"
   ]
  },
  {
   "cell_type": "markdown",
   "id": "aec8633b",
   "metadata": {},
   "source": [
    "# Pandas visualisation"
   ]
  },
  {
   "cell_type": "code",
   "execution_count": null,
   "id": "5e6b6bfc",
   "metadata": {},
   "outputs": [],
   "source": [
    "import plotly.express as px\n",
    "import pandas as pd\n",
    "\n",
    "data_1_genres_pd = genre_counts.toPandas()\n",
    "top_10_genres_pd = data_1_genres_pd.sort_values(by='count', ascending=False).head(20)"
   ]
  },
  {
   "cell_type": "markdown",
   "id": "ae3b6a03",
   "metadata": {},
   "source": [
    "## Bar_plot_pd"
   ]
  },
  {
   "cell_type": "code",
   "execution_count": null,
   "id": "ad09161b",
   "metadata": {},
   "outputs": [],
   "source": [
    "# Create a bar chart\n",
    "fig = px.bar(top_10_genres_pd, x='genres', y='count', title='Count of Films by Genre',\n",
    "             labels={'genres': 'Genres', 'count': 'Count of Films'},\n",
    "             height=600)\n",
    "\n",
    "# Customize the layout for better readability\n",
    "fig.update_layout(\n",
    "    xaxis_tickangle=-45,\n",
    "    xaxis_title_text='Genres',\n",
    "    yaxis_title_text='Count of Films',\n",
    "    title_text='Count of Films by Genre',\n",
    "    title_x=0.5\n",
    ")\n",
    "\n",
    "# Show the plot\n",
    "fig.show()"
   ]
  }
 ],
 "metadata": {
  "kernelspec": {
   "display_name": "Python 3 (ipykernel)",
   "language": "python",
   "name": "python3"
  },
  "language_info": {
   "codemirror_mode": {
    "name": "ipython",
    "version": 3
   },
   "file_extension": ".py",
   "mimetype": "text/x-python",
   "name": "python",
   "nbconvert_exporter": "python",
   "pygments_lexer": "ipython3",
   "version": "3.11.5"
  }
 },
 "nbformat": 4,
 "nbformat_minor": 5
}
