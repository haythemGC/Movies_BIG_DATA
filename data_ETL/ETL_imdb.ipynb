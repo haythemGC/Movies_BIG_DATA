{
 "cells": [
  {
   "cell_type": "markdown",
   "id": "643dc4ae",
   "metadata": {},
   "source": [
    "# Set the environement"
   ]
  },
  {
   "cell_type": "markdown",
   "id": "70e91c2d",
   "metadata": {},
   "source": [
    "# Logs to track execution time !!!"
   ]
  },
  {
   "cell_type": "code",
   "execution_count": 1,
   "id": "0d1f35f8",
   "metadata": {},
   "outputs": [],
   "source": [
    "!hadoop fs -mkdir /haythem"
   ]
  },
  {
   "cell_type": "code",
   "execution_count": 2,
   "id": "e10270f6",
   "metadata": {},
   "outputs": [],
   "source": [
    "!hadoop fs -put /home/haythem/imdb_dataset /haythem"
   ]
  },
  {
   "cell_type": "code",
   "execution_count": 3,
   "id": "50200d6d",
   "metadata": {},
   "outputs": [],
   "source": [
    "#Import the nesseceray packages \n",
    "from pyspark.sql.types import IntegerType, FloatType \n",
    "from pyspark.sql.functions import col\n",
    "from pyspark.sql import SparkSession\n",
    "import pyspark\n",
    "import time\n",
    "import fun"
   ]
  },
  {
   "cell_type": "code",
   "execution_count": 4,
   "id": "a1f6629a",
   "metadata": {
    "scrolled": true
   },
   "outputs": [
    {
     "name": "stderr",
     "output_type": "stream",
     "text": [
      "24/06/01 22:04:40 WARN Utils: Your hostname, haythem-Dell-G15-5510 resolves to a loopback address: 127.0.1.1; using 192.168.1.14 instead (on interface wlp0s20f3)\n",
      "24/06/01 22:04:40 WARN Utils: Set SPARK_LOCAL_IP if you need to bind to another address\n",
      "Setting default log level to \"WARN\".\n",
      "To adjust logging level use sc.setLogLevel(newLevel). For SparkR, use setLogLevel(newLevel).\n",
      "24/06/01 22:04:41 WARN NativeCodeLoader: Unable to load native-hadoop library for your platform... using builtin-java classes where applicable\n"
     ]
    }
   ],
   "source": [
    "#Create spark session\n",
    "spark = SparkSession.builder \\\n",
    "    .appName(\"MoviesRating\") \\\n",
    "    .config(\"spark.executor.memory\", \"10g\") \\\n",
    "    .getOrCreate()\n",
    "\n",
    "# set the log level to \"ERROR\" or \"FATAL\" to suppress warnings\n",
    "spark.sparkContext.setLogLevel(\"ERROR\")\n",
    "\n",
    "#WARN SparkStringUtils: Truncated the string representation of a plan since it was too large.\n",
    "#solution : spark.conf.set(\"spark.sql.debug.maxToStringFields\", \"your_desired_value\")\n",
    "spark.conf.set(\"spark.sql.debug.maxToStringFields\", \"-1\")"
   ]
  },
  {
   "cell_type": "markdown",
   "id": "26574cc6",
   "metadata": {},
   "source": [
    "# 1 - Extract\n",
    "## Explore the data "
   ]
  },
  {
   "cell_type": "code",
   "execution_count": 5,
   "id": "d7b254c1",
   "metadata": {},
   "outputs": [
    {
     "name": "stderr",
     "output_type": "stream",
     "text": [
      "                                                                                \r"
     ]
    },
    {
     "name": "stdout",
     "output_type": "stream",
     "text": [
      "Execution time: 38.74408483505249 seconds\n",
      "_df_name_name_basics__\n",
      "root\n",
      " |-- nconst: string (nullable = true)\n",
      " |-- primaryName: string (nullable = true)\n",
      " |-- birthYear: string (nullable = true)\n",
      " |-- deathYear: string (nullable = true)\n",
      " |-- primaryProfession: string (nullable = true)\n",
      " |-- knownForTitles: string (nullable = true)\n",
      "\n",
      "+---------+-------------------+---------+---------+--------------------+--------------------+\n",
      "|   nconst|        primaryName|birthYear|deathYear|   primaryProfession|      knownForTitles|\n",
      "+---------+-------------------+---------+---------+--------------------+--------------------+\n",
      "|nm0000001|       Fred Astaire|     1899|     1987|soundtrack,actor,...|tt0072308,tt00504...|\n",
      "|nm0000002|      Lauren Bacall|     1924|     2014|  actress,soundtrack|tt0075213,tt00373...|\n",
      "|nm0000003|    Brigitte Bardot|     1934|       \\N|actress,soundtrac...|tt0054452,tt00564...|\n",
      "|nm0000004|       John Belushi|     1949|     1982|actor,soundtrack,...|tt0078723,tt00804...|\n",
      "|nm0000005|     Ingmar Bergman|     1918|     2007|writer,director,a...|tt0050986,tt00839...|\n",
      "|nm0000006|     Ingrid Bergman|     1915|     1982|actress,soundtrac...|tt0038109,tt00387...|\n",
      "|nm0000007|    Humphrey Bogart|     1899|     1957|actor,soundtrack,...|tt0042593,tt00345...|\n",
      "|nm0000008|      Marlon Brando|     1924|     2004|actor,soundtrack,...|tt0078788,tt00708...|\n",
      "|nm0000009|     Richard Burton|     1925|     1984|actor,soundtrack,...|tt0061184,tt00578...|\n",
      "|nm0000010|       James Cagney|     1899|     1986|actor,soundtrack,...|tt0042041,tt00355...|\n",
      "|nm0000011|        Gary Cooper|     1901|     1961|actor,soundtrack,...|tt0035896,tt00447...|\n",
      "|nm0000012|        Bette Davis|     1908|     1989|actress,soundtrac...|tt0042192,tt00351...|\n",
      "|nm0000013|          Doris Day|     1922|     2019|soundtrack,actres...|tt0045591,tt00531...|\n",
      "|nm0000014|Olivia de Havilland|     1916|     2020|  actress,soundtrack|tt0029843,tt00414...|\n",
      "|nm0000015|         James Dean|     1931|     1955| actor,miscellaneous|tt0048028,tt00492...|\n",
      "|nm0000016|    Georges Delerue|     1925|     1992|composer,soundtra...|tt0096320,tt88477...|\n",
      "|nm0000017|   Marlene Dietrich|     1901|     1992|soundtrack,actres...|tt0052311,tt00211...|\n",
      "|nm0000018|       Kirk Douglas|     1916|     2020|actor,producer,so...|tt0043338,tt00543...|\n",
      "|nm0000019|   Federico Fellini|     1920|     1993|writer,director,a...|tt0050783,tt00568...|\n",
      "|nm0000020|        Henry Fonda|     1905|     1982|actor,producer,so...|tt0050083,tt00828...|\n",
      "+---------+-------------------+---------+---------+--------------------+--------------------+\n",
      "only showing top 20 rows\n",
      "\n",
      "_df_name_title_basics__\n",
      "root\n",
      " |-- tconst: string (nullable = true)\n",
      " |-- titleType: string (nullable = true)\n",
      " |-- primaryTitle: string (nullable = true)\n",
      " |-- originalTitle: string (nullable = true)\n",
      " |-- isAdult: string (nullable = true)\n",
      " |-- startYear: string (nullable = true)\n",
      " |-- endYear: string (nullable = true)\n",
      " |-- runtimeMinutes: string (nullable = true)\n",
      " |-- genres: string (nullable = true)\n",
      "\n",
      "+---------+---------+--------------------+--------------------+-------+---------+-------+--------------+--------------------+\n",
      "|   tconst|titleType|        primaryTitle|       originalTitle|isAdult|startYear|endYear|runtimeMinutes|              genres|\n",
      "+---------+---------+--------------------+--------------------+-------+---------+-------+--------------+--------------------+\n",
      "|tt0000001|    short|          Carmencita|          Carmencita|      0|     1894|     \\N|             1|   Documentary,Short|\n",
      "|tt0000002|    short|Le clown et ses c...|Le clown et ses c...|      0|     1892|     \\N|             5|     Animation,Short|\n",
      "|tt0000003|    short|      Pauvre Pierrot|      Pauvre Pierrot|      0|     1892|     \\N|             4|Animation,Comedy,...|\n",
      "|tt0000004|    short|         Un bon bock|         Un bon bock|      0|     1892|     \\N|            12|     Animation,Short|\n",
      "|tt0000005|    short|    Blacksmith Scene|    Blacksmith Scene|      0|     1893|     \\N|             1|        Comedy,Short|\n",
      "|tt0000006|    short|   Chinese Opium Den|   Chinese Opium Den|      0|     1894|     \\N|             1|               Short|\n",
      "|tt0000007|    short|Corbett and Court...|Corbett and Court...|      0|     1894|     \\N|             1|         Short,Sport|\n",
      "|tt0000008|    short|Edison Kinetoscop...|Edison Kinetoscop...|      0|     1894|     \\N|             1|   Documentary,Short|\n",
      "|tt0000009|    movie|          Miss Jerry|          Miss Jerry|      0|     1894|     \\N|            45|             Romance|\n",
      "|tt0000010|    short| Leaving the Factory|La sortie de l'us...|      0|     1895|     \\N|             1|   Documentary,Short|\n",
      "|tt0000011|    short|Akrobatisches Pot...|Akrobatisches Pot...|      0|     1895|     \\N|             1|   Documentary,Short|\n",
      "|tt0000012|    short|The Arrival of a ...|L'arrivée d'un tr...|      0|     1896|     \\N|             1|   Documentary,Short|\n",
      "|tt0000013|    short|The Photographica...|Le débarquement d...|      0|     1895|     \\N|             1|   Documentary,Short|\n",
      "|tt0000014|    short| The Waterer Watered|   L'arroseur arrosé|      0|     1895|     \\N|             1|        Comedy,Short|\n",
      "|tt0000015|    short| Autour d'une cabine| Autour d'une cabine|      0|     1894|     \\N|             2|     Animation,Short|\n",
      "|tt0000016|    short|Boat Leaving the ...|Barque sortant du...|      0|     1895|     \\N|             1|   Documentary,Short|\n",
      "|tt0000017|    short|Italienischer Bau...|Italienischer Bau...|      0|     1895|     \\N|             1|   Documentary,Short|\n",
      "|tt0000018|    short|Das boxende Känguruh|Das boxende Känguruh|      0|     1895|     \\N|             1|               Short|\n",
      "|tt0000019|    short|    The Clown Barber|    The Clown Barber|      0|     1898|     \\N|            \\N|        Comedy,Short|\n",
      "|tt0000020|    short|      The Derby 1895|      The Derby 1895|      0|     1895|     \\N|             1|Documentary,Short...|\n",
      "+---------+---------+--------------------+--------------------+-------+---------+-------+--------------+--------------------+\n",
      "only showing top 20 rows\n",
      "\n",
      "_df_name_title_crew__\n",
      "root\n",
      " |-- tconst: string (nullable = true)\n",
      " |-- directors: string (nullable = true)\n",
      " |-- writers: string (nullable = true)\n",
      "\n",
      "+---------+-------------------+---------+\n",
      "|   tconst|          directors|  writers|\n",
      "+---------+-------------------+---------+\n",
      "|tt0000001|          nm0005690|       \\N|\n",
      "|tt0000002|          nm0721526|       \\N|\n",
      "|tt0000003|          nm0721526|       \\N|\n",
      "|tt0000004|          nm0721526|       \\N|\n",
      "|tt0000005|          nm0005690|       \\N|\n",
      "|tt0000006|          nm0005690|       \\N|\n",
      "|tt0000007|nm0005690,nm0374658|       \\N|\n",
      "|tt0000008|          nm0005690|       \\N|\n",
      "|tt0000009|          nm0085156|nm0085156|\n",
      "|tt0000010|          nm0525910|       \\N|\n",
      "|tt0000011|          nm0804434|       \\N|\n",
      "|tt0000012|nm0525908,nm0525910|       \\N|\n",
      "|tt0000013|          nm0525910|       \\N|\n",
      "|tt0000014|          nm0525910|       \\N|\n",
      "|tt0000015|          nm0721526|       \\N|\n",
      "|tt0000016|          nm0525910|       \\N|\n",
      "|tt0000017|nm0804434,nm1587194|       \\N|\n",
      "|tt0000018|          nm0804434|       \\N|\n",
      "|tt0000019|          nm0932055|       \\N|\n",
      "|tt0000020|          nm0010291|       \\N|\n",
      "+---------+-------------------+---------+\n",
      "only showing top 20 rows\n",
      "\n",
      "_df_name_title_ratings__\n",
      "root\n",
      " |-- tconst: string (nullable = true)\n",
      " |-- averageRating: double (nullable = true)\n",
      " |-- numVotes: integer (nullable = true)\n",
      "\n",
      "+---------+-------------+--------+\n",
      "|   tconst|averageRating|numVotes|\n",
      "+---------+-------------+--------+\n",
      "|tt0000001|          5.7|    1983|\n",
      "|tt0000002|          5.8|     265|\n",
      "|tt0000003|          6.5|    1840|\n",
      "|tt0000004|          5.5|     178|\n",
      "|tt0000005|          6.2|    2623|\n",
      "|tt0000006|          5.1|     182|\n",
      "|tt0000007|          5.4|     821|\n",
      "|tt0000008|          5.4|    2118|\n",
      "|tt0000009|          5.3|     206|\n",
      "|tt0000010|          6.9|    7202|\n",
      "|tt0000011|          5.3|     370|\n",
      "|tt0000012|          7.4|   12324|\n",
      "|tt0000013|          5.7|    1894|\n",
      "|tt0000014|          7.1|    5547|\n",
      "|tt0000015|          6.1|    1095|\n",
      "|tt0000016|          5.9|    1512|\n",
      "|tt0000017|          4.6|     330|\n",
      "|tt0000018|          5.3|     598|\n",
      "|tt0000019|          4.8|      32|\n",
      "|tt0000020|          4.8|     364|\n",
      "+---------+-------------+--------+\n",
      "only showing top 20 rows\n",
      "\n"
     ]
    }
   ],
   "source": [
    "name_basics_hdfs_path = \"hdfs://localhost:9000/haythem/imdb_dataset/name_basics\"\n",
    "title_akas_hdfs_path = \"hdfs://localhost:9000/haythem/imdb_dataset/title_akas\"\n",
    "title_basics_hdfs_path = \"hdfs://localhost:9000/haythem/imdb_dataset/title_basics\"\n",
    "title_crew_hdfs_path = \"hdfs://localhost:9000/haythem/imdb_dataset/title_crew\"\n",
    "title_episode_hdfs_path = \"hdfs://localhost:9000/haythem/imdb_dataset/title_episode\"\n",
    "title_principals_hdfs_path = \"hdfs://localhost:9000/haythem/imdb_dataset/title_principals\"\n",
    "title_ratings_hdfs_path = \"hdfs://localhost:9000/haythem/imdb_dataset/title_ratings\"\n",
    "\n",
    "#############################################\n",
    "start_time = time.time()\n",
    "\n",
    "df_name_name_basics_      = spark.read.format(\"csv\").option(\"delimiter\", \"\\t\").load(name_basics_hdfs_path, header=True, inferSchema=True)\n",
    "df_name_title_akas_       = spark.read.format(\"csv\").option(\"delimiter\", \"\\t\").load(title_akas_hdfs_path, header=True, inferSchema=True)\n",
    "df_name_title_basics_     = spark.read.format(\"csv\").option(\"delimiter\", \"\\t\").load(title_basics_hdfs_path, header=True, inferSchema=True)\n",
    "df_name_title_crew_       = spark.read.format(\"csv\").option(\"delimiter\", \"\\t\").load(title_crew_hdfs_path, header=True, inferSchema=True)\n",
    "df_name_title_episode_    = spark.read.format(\"csv\").option(\"delimiter\", \"\\t\").load(title_episode_hdfs_path, header=True, inferSchema=True)\n",
    "df_name_title_principals_ = spark.read.format(\"csv\").option(\"delimiter\", \"\\t\").load(title_principals_hdfs_path, header=True, inferSchema=True)\n",
    "df_name_title_ratings_    = spark.read.format(\"csv\").option(\"delimiter\", \"\\t\").load(title_ratings_hdfs_path, header=True, inferSchema=True)\n",
    "\n",
    "end_time = time.time()\n",
    "##############################################\n",
    "# Calculate execution time\n",
    "execution_time = end_time - start_time\n",
    "print(\"Execution time:\", execution_time, \"seconds\")\n",
    "\n",
    "\n",
    "fun.show_info(df_name_name_basics_, \"df_name_name_basics_\")\n",
    "fun.show_info(df_name_title_basics_, \"df_name_title_basics_\")\n",
    "fun.show_info(df_name_title_crew_, \"df_name_title_crew_\")\n",
    "fun.show_info(df_name_title_ratings_, \"df_name_title_ratings_\")\n",
    "#fun.show_info(df_name_title_akas_, \"title_akas\")\n",
    "#fun.show_info(df_name_title_episode_, \"title_episode\")\n",
    "#fun.show_info(df_name_title_principals_, \"title_principals\")"
   ]
  },
  {
   "cell_type": "markdown",
   "id": "deeaec70",
   "metadata": {},
   "source": [
    "## More details about  it"
   ]
  },
  {
   "cell_type": "code",
   "execution_count": 22,
   "id": "a91b7a72",
   "metadata": {
    "scrolled": false
   },
   "outputs": [
    {
     "data": {
      "text/plain": [
       "<module 'fun' from '/home/haythem/Documents/Big_data_imdb/fun.py'>"
      ]
     },
     "execution_count": 22,
     "metadata": {},
     "output_type": "execute_result"
    }
   ],
   "source": [
    "#import importlib\n",
    "i#mportlib.reload(fun)\n"
   ]
  },
  {
   "cell_type": "code",
   "execution_count": 21,
   "id": "77273fe3",
   "metadata": {
    "scrolled": true
   },
   "outputs": [
    {
     "name": "stdout",
     "output_type": "stream",
     "text": [
      "df_name_name_basics_\n"
     ]
    },
    {
     "name": "stderr",
     "output_type": "stream",
     "text": [
      "                                                                                \r"
     ]
    },
    {
     "name": "stdout",
     "output_type": "stream",
     "text": [
      "Number of rows: 12655595\n",
      "\n",
      "Number of Empty Values in Each Column:\n"
     ]
    },
    {
     "name": "stderr",
     "output_type": "stream",
     "text": [
      "                                                                                \r"
     ]
    },
    {
     "name": "stdout",
     "output_type": "stream",
     "text": [
      "nconst: 0 || \\N: 0\n"
     ]
    },
    {
     "name": "stderr",
     "output_type": "stream",
     "text": [
      "                                                                                \r"
     ]
    },
    {
     "name": "stdout",
     "output_type": "stream",
     "text": [
      "primaryName: 8 || \\N: 0\n"
     ]
    },
    {
     "name": "stderr",
     "output_type": "stream",
     "text": [
      "                                                                                \r"
     ]
    },
    {
     "name": "stdout",
     "output_type": "stream",
     "text": [
      "birthYear: 0 || \\N: 12071999\n"
     ]
    },
    {
     "name": "stderr",
     "output_type": "stream",
     "text": [
      "                                                                                \r"
     ]
    },
    {
     "name": "stdout",
     "output_type": "stream",
     "text": [
      "deathYear: 0 || \\N: 12438488\n"
     ]
    },
    {
     "name": "stderr",
     "output_type": "stream",
     "text": [
      "                                                                                \r"
     ]
    },
    {
     "name": "stdout",
     "output_type": "stream",
     "text": [
      "primaryProfession: 2460843 || \\N: 0\n"
     ]
    },
    {
     "name": "stderr",
     "output_type": "stream",
     "text": [
      "                                                                                \r"
     ]
    },
    {
     "name": "stdout",
     "output_type": "stream",
     "text": [
      "knownForTitles: 0 || \\N: 1286509\n",
      "df_name_title_ratings_\n",
      "Number of rows: 1326238\n",
      "\n",
      "Number of Empty Values in Each Column:\n"
     ]
    },
    {
     "name": "stderr",
     "output_type": "stream",
     "text": [
      "                                                                                \r"
     ]
    },
    {
     "name": "stdout",
     "output_type": "stream",
     "text": [
      "tconst: 0 || \\N: 0\n",
      "averageRating: 0 || \\N: 0\n",
      "numVotes: 0 || \\N: 0\n",
      "df_name_title_crew_\n"
     ]
    },
    {
     "name": "stderr",
     "output_type": "stream",
     "text": [
      "\r",
      "[Stage 313:====>                                                  (1 + 11) / 12]\r",
      "\r",
      "                                                                                \r"
     ]
    },
    {
     "name": "stdout",
     "output_type": "stream",
     "text": [
      "Number of rows: 9978989\n",
      "\n",
      "Number of Empty Values in Each Column:\n"
     ]
    },
    {
     "name": "stderr",
     "output_type": "stream",
     "text": [
      "                                                                                \r"
     ]
    },
    {
     "name": "stdout",
     "output_type": "stream",
     "text": [
      "tconst: 0 || \\N: 0\n"
     ]
    },
    {
     "name": "stderr",
     "output_type": "stream",
     "text": [
      "                                                                                \r"
     ]
    },
    {
     "name": "stdout",
     "output_type": "stream",
     "text": [
      "directors: 0 || \\N: 4245029\n"
     ]
    },
    {
     "name": "stderr",
     "output_type": "stream",
     "text": [
      "                                                                                \r"
     ]
    },
    {
     "name": "stdout",
     "output_type": "stream",
     "text": [
      "writers: 0 || \\N: 4806274\n",
      "df_name_title_basics_\n"
     ]
    },
    {
     "name": "stderr",
     "output_type": "stream",
     "text": [
      "                                                                                \r"
     ]
    },
    {
     "name": "stdout",
     "output_type": "stream",
     "text": [
      "Number of rows: 9978989\n",
      "\n",
      "Number of Empty Values in Each Column:\n"
     ]
    },
    {
     "name": "stderr",
     "output_type": "stream",
     "text": [
      "                                                                                \r"
     ]
    },
    {
     "name": "stdout",
     "output_type": "stream",
     "text": [
      "tconst: 0 || \\N: 0\n"
     ]
    },
    {
     "name": "stderr",
     "output_type": "stream",
     "text": [
      "                                                                                \r"
     ]
    },
    {
     "name": "stdout",
     "output_type": "stream",
     "text": [
      "titleType: 0 || \\N: 0\n"
     ]
    },
    {
     "name": "stderr",
     "output_type": "stream",
     "text": [
      "                                                                                \r"
     ]
    },
    {
     "name": "stdout",
     "output_type": "stream",
     "text": [
      "primaryTitle: 8 || \\N: 0\n"
     ]
    },
    {
     "name": "stderr",
     "output_type": "stream",
     "text": [
      "                                                                                \r"
     ]
    },
    {
     "name": "stdout",
     "output_type": "stream",
     "text": [
      "originalTitle: 8 || \\N: 0\n"
     ]
    },
    {
     "name": "stderr",
     "output_type": "stream",
     "text": [
      "                                                                                \r"
     ]
    },
    {
     "name": "stdout",
     "output_type": "stream",
     "text": [
      "isAdult: 0 || \\N: 1\n"
     ]
    },
    {
     "name": "stderr",
     "output_type": "stream",
     "text": [
      "                                                                                \r"
     ]
    },
    {
     "name": "stdout",
     "output_type": "stream",
     "text": [
      "startYear: 0 || \\N: 1344843\n"
     ]
    },
    {
     "name": "stderr",
     "output_type": "stream",
     "text": [
      "                                                                                \r"
     ]
    },
    {
     "name": "stdout",
     "output_type": "stream",
     "text": [
      "endYear: 0 || \\N: 9869509\n"
     ]
    },
    {
     "name": "stderr",
     "output_type": "stream",
     "text": [
      "                                                                                \r"
     ]
    },
    {
     "name": "stdout",
     "output_type": "stream",
     "text": [
      "runtimeMinutes: 0 || \\N: 7016116\n"
     ]
    },
    {
     "name": "stderr",
     "output_type": "stream",
     "text": [
      "                                                                                \r"
     ]
    },
    {
     "name": "stdout",
     "output_type": "stream",
     "text": [
      "genres: 15 || \\N: 448365\n",
      "Execution time: 161.9730806350708 seconds\n"
     ]
    },
    {
     "name": "stderr",
     "output_type": "stream",
     "text": [
      "                                                                                \r"
     ]
    },
    {
     "name": "stdout",
     "output_type": "stream",
     "text": [
      "df_name_name_basics_ : 0 duplicates\n"
     ]
    },
    {
     "name": "stderr",
     "output_type": "stream",
     "text": [
      "                                                                                \r"
     ]
    },
    {
     "name": "stdout",
     "output_type": "stream",
     "text": [
      "df_name_title_ratings_ : 0 duplicates\n"
     ]
    },
    {
     "name": "stderr",
     "output_type": "stream",
     "text": [
      "                                                                                \r"
     ]
    },
    {
     "name": "stdout",
     "output_type": "stream",
     "text": [
      "df_name_title_crew_ : 0 duplicates\n"
     ]
    },
    {
     "name": "stderr",
     "output_type": "stream",
     "text": [
      "[Stage 411:==================================================>    (12 + 1) / 13]\r"
     ]
    },
    {
     "name": "stdout",
     "output_type": "stream",
     "text": [
      "df_name_title_basics_ : 0 duplicates\n"
     ]
    },
    {
     "name": "stderr",
     "output_type": "stream",
     "text": [
      "\r",
      "                                                                                \r"
     ]
    }
   ],
   "source": [
    "# find the empty and the nullable value of each column in _name_basics_\n",
    "############################################\n",
    "start_time = time.time()\n",
    "list_of_targets = [df_name_name_basics_, df_name_title_ratings_, df_name_title_crew_, df_name_title_basics_ ]\n",
    "list_of_targets_name = ['df_name_name_basics_', 'df_name_title_ratings_', 'df_name_title_crew_', 'df_name_title_basics_' ]\n",
    "for df, name in zip(list_of_targets, list_of_targets_name) :\n",
    "    print(name)\n",
    "    fun.print_empty_values(df)\n",
    "\n",
    "end_time = time.time()\n",
    "############################################\n",
    "# Calculate execution time\n",
    "execution_time = end_time - start_time\n",
    "print(\"Execution time:\", execution_time, \"seconds\")\n",
    "\n",
    "for df, name in zip(list_of_targets, list_of_targets_name) :\n",
    "    duplicate_count_all = df.groupBy(df.columns).count().where(col(\"count\") > 1).count()\n",
    "    print(f\"{name} : {duplicate_count_all} duplicates\")"
   ]
  },
  {
   "cell_type": "markdown",
   "id": "9b3be4ef",
   "metadata": {},
   "source": [
    "# 2 - Transform"
   ]
  },
  {
   "cell_type": "code",
   "execution_count": 32,
   "id": "b100c26b",
   "metadata": {},
   "outputs": [
    {
     "name": "stdout",
     "output_type": "stream",
     "text": [
      "Execution time: 0.1571645736694336 seconds\n"
     ]
    }
   ],
   "source": [
    "#Columns to drop from \"_title_basics_\"\n",
    "drop_colos__title_basics_ = ['titleType','originalTitle','endYear','runtimeMinutes']\n",
    "df_name_title_basics_ = df_name_title_basics_.drop(*drop_colos__title_basics_)\n",
    "\n",
    "#converting the data type of the column 'startYear' and 'isAdult' in the dataframe \"df__title_basics_\" to integers\n",
    "df_name_title_basics_ = df_name_title_basics_.withColumn('startYear', df_name_title_basics_['startYear'].cast(IntegerType()))\n",
    "df_name_title_basics_ = df_name_title_basics_.withColumn('isAdult', df_name_title_basics_['isAdult'].cast(IntegerType()))\n",
    "\n",
    "#Take care of none values \n",
    "start_time = time.time()\n",
    "for d in range(len(list_of_targets_)):\n",
    "    list_of_targets_[d] = fun.change_to_None(list_of_targets_[d])\n",
    "end_time = time.time()\n",
    "\n",
    "# Calculate execution time\n",
    "execution_time = end_time - start_time\n",
    "print(\"Execution time:\", execution_time, \"seconds\")   \n",
    "\n",
    "# Perform a left join to preserve all rows from df_name_title_basics_\n",
    "joined_df = list_of_targets[3].join(list_of_targets[1], \"tconst\", \"left\")\n",
    "df_name_name_basics_ = list_of_targets[0]\n",
    "df_name_title_crew_ = list_of_targets[2]"
   ]
  },
  {
   "cell_type": "markdown",
   "id": "b21946b0",
   "metadata": {},
   "source": [
    "## Verification"
   ]
  },
  {
   "cell_type": "code",
   "execution_count": 24,
   "id": "8ea52fc7",
   "metadata": {
    "scrolled": true
   },
   "outputs": [
    {
     "name": "stdout",
     "output_type": "stream",
     "text": [
      "df_name_name_basics_\n",
      "Number of Empty Values in Each Column:\n"
     ]
    },
    {
     "name": "stderr",
     "output_type": "stream",
     "text": [
      "                                                                                \r"
     ]
    },
    {
     "name": "stdout",
     "output_type": "stream",
     "text": [
      "nconst: 0 || \\N: 0\n"
     ]
    },
    {
     "name": "stderr",
     "output_type": "stream",
     "text": [
      "                                                                                \r"
     ]
    },
    {
     "name": "stdout",
     "output_type": "stream",
     "text": [
      "primaryName: 8 || \\N: 0\n"
     ]
    },
    {
     "name": "stderr",
     "output_type": "stream",
     "text": [
      "                                                                                \r"
     ]
    },
    {
     "name": "stdout",
     "output_type": "stream",
     "text": [
      "birthYear: 12071999 || \\N: 0\n"
     ]
    },
    {
     "name": "stderr",
     "output_type": "stream",
     "text": [
      "                                                                                \r"
     ]
    },
    {
     "name": "stdout",
     "output_type": "stream",
     "text": [
      "deathYear: 12438488 || \\N: 0\n"
     ]
    },
    {
     "name": "stderr",
     "output_type": "stream",
     "text": [
      "                                                                                \r"
     ]
    },
    {
     "name": "stdout",
     "output_type": "stream",
     "text": [
      "primaryProfession: 2460843 || \\N: 0\n"
     ]
    },
    {
     "name": "stderr",
     "output_type": "stream",
     "text": [
      "                                                                                \r"
     ]
    },
    {
     "name": "stdout",
     "output_type": "stream",
     "text": [
      "knownForTitles: 1286509 || \\N: 0\n",
      "df_name_title_ratings_\n",
      "Number of Empty Values in Each Column:\n"
     ]
    },
    {
     "name": "stderr",
     "output_type": "stream",
     "text": [
      "                                                                                \r"
     ]
    },
    {
     "name": "stdout",
     "output_type": "stream",
     "text": [
      "tconst: 0 || \\N: 0\n",
      "averageRating: 0 || \\N: 0\n",
      "numVotes: 0 || \\N: 0\n",
      "df_name_title_crew_\n",
      "Number of Empty Values in Each Column:\n"
     ]
    },
    {
     "name": "stderr",
     "output_type": "stream",
     "text": [
      "                                                                                \r"
     ]
    },
    {
     "name": "stdout",
     "output_type": "stream",
     "text": [
      "tconst: 0 || \\N: 0\n"
     ]
    },
    {
     "name": "stderr",
     "output_type": "stream",
     "text": [
      "                                                                                \r"
     ]
    },
    {
     "name": "stdout",
     "output_type": "stream",
     "text": [
      "directors: 4245029 || \\N: 0\n"
     ]
    },
    {
     "name": "stderr",
     "output_type": "stream",
     "text": [
      "                                                                                \r"
     ]
    },
    {
     "name": "stdout",
     "output_type": "stream",
     "text": [
      "writers: 4806274 || \\N: 0\n",
      "df_name_title_basics_\n",
      "Number of Empty Values in Each Column:\n"
     ]
    },
    {
     "name": "stderr",
     "output_type": "stream",
     "text": [
      "                                                                                \r"
     ]
    },
    {
     "name": "stdout",
     "output_type": "stream",
     "text": [
      "tconst: 0 || \\N: 0\n"
     ]
    },
    {
     "name": "stderr",
     "output_type": "stream",
     "text": [
      "                                                                                \r"
     ]
    },
    {
     "name": "stdout",
     "output_type": "stream",
     "text": [
      "titleType: 0 || \\N: 0\n"
     ]
    },
    {
     "name": "stderr",
     "output_type": "stream",
     "text": [
      "                                                                                \r"
     ]
    },
    {
     "name": "stdout",
     "output_type": "stream",
     "text": [
      "primaryTitle: 8 || \\N: 0\n"
     ]
    },
    {
     "name": "stderr",
     "output_type": "stream",
     "text": [
      "                                                                                \r"
     ]
    },
    {
     "name": "stdout",
     "output_type": "stream",
     "text": [
      "originalTitle: 8 || \\N: 0\n"
     ]
    },
    {
     "name": "stderr",
     "output_type": "stream",
     "text": [
      "                                                                                \r"
     ]
    },
    {
     "name": "stdout",
     "output_type": "stream",
     "text": [
      "isAdult: 1 || \\N: 0\n"
     ]
    },
    {
     "name": "stderr",
     "output_type": "stream",
     "text": [
      "                                                                                \r"
     ]
    },
    {
     "name": "stdout",
     "output_type": "stream",
     "text": [
      "startYear: 1344843 || \\N: 0\n"
     ]
    },
    {
     "name": "stderr",
     "output_type": "stream",
     "text": [
      "                                                                                \r"
     ]
    },
    {
     "name": "stdout",
     "output_type": "stream",
     "text": [
      "endYear: 9869509 || \\N: 0\n"
     ]
    },
    {
     "name": "stderr",
     "output_type": "stream",
     "text": [
      "                                                                                \r"
     ]
    },
    {
     "name": "stdout",
     "output_type": "stream",
     "text": [
      "runtimeMinutes: 7016116 || \\N: 0\n"
     ]
    },
    {
     "name": "stderr",
     "output_type": "stream",
     "text": [
      "                                                                                \r"
     ]
    },
    {
     "name": "stdout",
     "output_type": "stream",
     "text": [
      "genres: 448380 || \\N: 0\n"
     ]
    },
    {
     "name": "stderr",
     "output_type": "stream",
     "text": [
      "\r",
      "[Stage 540:=========>                                               (1 + 5) / 6]\r"
     ]
    },
    {
     "name": "stdout",
     "output_type": "stream",
     "text": [
      "+----------+--------------------+-------+---------+--------------------+-------------+--------+\n",
      "|    tconst|        primaryTitle|isAdult|startYear|              genres|averageRating|numVotes|\n",
      "+----------+--------------------+-------+---------+--------------------+-------------+--------+\n",
      "| tt0000008|Edison Kinetoscop...|      0|     1894|   Documentary,Short|          5.4|    2118|\n",
      "| tt0000015| Autour d'une cabine|      0|     1894|     Animation,Short|          6.1|    1095|\n",
      "| tt0000019|    The Clown Barber|      0|     1898|        Comedy,Short|          4.8|      32|\n",
      "| tt0892353|Se una notte a mo...|      0|     1982|      Comedy,Fantasy|         NULL|    NULL|\n",
      "|tt12879082|Cold Case, Unearthed|      0|     2021|               Crime|          7.1|      13|\n",
      "|tt14409530|Charlotte, lycéen...|      1|     2013|               Adult|         NULL|    NULL|\n",
      "|tt22974220|       Episode #1.27|      0|     NULL|                  \\N|         NULL|    NULL|\n",
      "|tt27867902|       Episode #1.42|      0|     2022|               Drama|         NULL|    NULL|\n",
      "|tt27867914|Saikuron gunner! ...|      0|     2005|Action,Adventure,...|         NULL|    NULL|\n",
      "|tt27867916|Top 10 Difference...|      0|     2023|           Talk-Show|         NULL|    NULL|\n",
      "| tt4492768|       Episode #8.14|      0|     2014|                  \\N|         NULL|    NULL|\n",
      "| tt4492798|        Episode 1769|      0|     1999|        Drama,Family|         NULL|    NULL|\n",
      "| tt6360056|2015: Day 3 Highl...|      0|     2015|               Sport|         NULL|    NULL|\n",
      "| tt8189692|      Episode #1.147|      0|     1985|       Drama,Romance|         NULL|    NULL|\n",
      "| tt8189730|      Episode #1.142|      0|     1989|        Drama,Family|         NULL|    NULL|\n",
      "| tt0000002|Le clown et ses c...|      0|     1892|     Animation,Short|          5.8|     265|\n",
      "| tt0000004|         Un bon bock|      0|     1892|     Animation,Short|          5.5|     178|\n",
      "| tt0000017|Italienischer Bau...|      0|     1895|   Documentary,Short|          4.6|     330|\n",
      "| tt0892338|    Paris une étoile|      0|     2006|   Documentary,Short|         NULL|    NULL|\n",
      "| tt0892352|         The Samurai|      0|     2003|Documentary,Histo...|          6.4|      19|\n",
      "+----------+--------------------+-------+---------+--------------------+-------------+--------+\n",
      "only showing top 20 rows\n",
      "\n"
     ]
    },
    {
     "name": "stderr",
     "output_type": "stream",
     "text": [
      "\r",
      "                                                                                \r"
     ]
    }
   ],
   "source": [
    "#Verify \n",
    "for df, name in zip(list_of_targets, list_of_targets_name) :\n",
    "    print(name)\n",
    "    fun.print_None_values(df)\n",
    "joined_df.show()"
   ]
  },
  {
   "cell_type": "markdown",
   "id": "f5433987",
   "metadata": {},
   "source": [
    "# 3 - Load"
   ]
  },
  {
   "cell_type": "code",
   "execution_count": 34,
   "id": "4f6dd854",
   "metadata": {},
   "outputs": [
    {
     "name": "stderr",
     "output_type": "stream",
     "text": [
      "                                                                                \r"
     ]
    },
    {
     "name": "stdout",
     "output_type": "stream",
     "text": [
      "Deleted hdfs://localhost:9000/haythem/imdb_dataset/output_directory/temp_films.csv\n"
     ]
    },
    {
     "name": "stderr",
     "output_type": "stream",
     "text": [
      "                                                                                \r"
     ]
    },
    {
     "name": "stdout",
     "output_type": "stream",
     "text": [
      "Deleted hdfs://localhost:9000/haythem/imdb_dataset/output_directory/temp_crew.csv\n"
     ]
    },
    {
     "name": "stderr",
     "output_type": "stream",
     "text": [
      "                                                                                \r"
     ]
    },
    {
     "name": "stdout",
     "output_type": "stream",
     "text": [
      "Deleted hdfs://localhost:9000/haythem/imdb_dataset/output_directory/temp_films_crew.csv\n",
      "Execution time: 123.32988834381104 seconds\n"
     ]
    }
   ],
   "source": [
    "# Define HDFS directory and filenames\n",
    "hdfs_directory = \"hdfs://localhost:9000/haythem/imdb_dataset/output_directory\"\n",
    "final_output_filename1 = \"films.csv\"\n",
    "final_output_filename2 = \"crew.csv\"\n",
    "final_output_filename3 = \"films_crew.csv\"\n",
    "\n",
    "start_time = time.time()\n",
    "# Save DataFrames to HDFS with permissions\n",
    "fun.save_df_to_hdfs_with_permissions(joined_df, hdfs_directory, final_output_filename1)\n",
    "fun.save_df_to_hdfs_with_permissions(df_name_name_basics_, hdfs_directory, final_output_filename2)\n",
    "fun.save_df_to_hdfs_with_permissions(df_name_title_crew_, hdfs_directory, final_output_filename3)\n",
    "end_time = time.time()\n",
    "\n",
    "# Calculate execution time\n",
    "execution_time = end_time - start_time\n",
    "print(\"Execution time:\", execution_time, \"seconds\") "
   ]
  },
  {
   "cell_type": "code",
   "execution_count": 35,
   "id": "64d5fd3c",
   "metadata": {},
   "outputs": [],
   "source": [
    "spark.stop()"
   ]
  }
 ],
 "metadata": {
  "kernelspec": {
   "display_name": "Python 3 (ipykernel)",
   "language": "python",
   "name": "python3"
  },
  "language_info": {
   "codemirror_mode": {
    "name": "ipython",
    "version": 3
   },
   "file_extension": ".py",
   "mimetype": "text/x-python",
   "name": "python",
   "nbconvert_exporter": "python",
   "pygments_lexer": "ipython3",
   "version": "3.11.5"
  },
  "widgets": {
   "application/vnd.jupyter.widget-state+json": {
    "state": {},
    "version_major": 2,
    "version_minor": 0
   }
  }
 },
 "nbformat": 4,
 "nbformat_minor": 5
}
